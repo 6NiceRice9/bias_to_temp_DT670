{
 "cells": [
  {
   "metadata": {
    "ExecuteTime": {
     "end_time": "2024-08-19T11:17:22.878338Z",
     "start_time": "2024-08-19T11:17:22.866701Z"
    }
   },
   "cell_type": "code",
   "source": [
    "import numpy as np\n",
    "\n",
    "# Define the functions for temperature conversion\n",
    "def C_100_500(Z):\n",
    "    ZL = 0.070000\n",
    "    ZU = 0.99799\n",
    "    T = 0\n",
    "    constants = (\n",
    "        306.592351, -205.393808, -4.695680, -2.031603, -0.071792, -0.437682,\n",
    "        0.176352, -0.182516, 0.064687, -0.027019, 0.010019\n",
    "    )\n",
    "    normalized_var = ((Z - ZL) - (ZU - Z)) / (ZU - ZL)\n",
    "\n",
    "    for index in range(len(constants)):\n",
    "        T += constants[index] * np.cos(index * np.arccos(normalized_var))\n",
    "    return T\n",
    "\n",
    "\n",
    "def C_24_100(Z):\n",
    "    ZL = 0.909416\n",
    "    ZU = 1.122751\n",
    "    T = 0\n",
    "    constants = (\n",
    "        82.017868, -59.064244, -1.356615, 1.055396, 0.837341, 0.431875,\n",
    "        0.440840, -0.061588, 0.209414, -0.120882, 0.055734, -0.035974\n",
    "    )\n",
    "    normalized_var = ((Z - ZL) - (ZU - Z)) / (ZU - ZL)\n",
    "\n",
    "    for index in range(len(constants)):\n",
    "        T += constants[index] * np.cos(index * np.arccos(normalized_var))\n",
    "    return T\n",
    "\n",
    "\n",
    "def C_12_24(Z):\n",
    "    ZL = 1.11230\n",
    "    ZU = 1.38373\n",
    "    T = 0\n",
    "    constants = (\n",
    "        17.244846, -7.964373, 0.625343, -0.105068, 0.292196, -0.344492,\n",
    "        0.271670, -0.151722, 0.121320, -0.035566, 0.045966\n",
    "    )\n",
    "    normalized_var = ((Z - ZL) - (ZU - Z)) / (ZU - ZL)\n",
    "\n",
    "    for index in range(len(constants)):\n",
    "        T += constants[index] * np.cos(index * np.arccos(normalized_var))\n",
    "    return T\n",
    "\n",
    "\n",
    "def C_2_12(Z):\n",
    "    ZL = 1.294390\n",
    "    ZU = 1.680000\n",
    "    T = 0\n",
    "    constants = (\n",
    "        6.429274, -7.514262, -0.725882, -1.117846, -0.562041, -0.360239,\n",
    "        -0.229751, -0.135713, -0.068203, -0.029755\n",
    "    )\n",
    "    normalized_var = ((Z - ZL) - (ZU - Z)) / (ZU - ZL)\n",
    "\n",
    "    for index in range(len(constants)):\n",
    "        T += constants[index] * np.cos(index * np.arccos(normalized_var))\n",
    "    return T\n",
    "\n",
    "\n",
    "# Function to process voltage and determine the temperature\n",
    "def process_voltage(voltage):\n",
    "    if 0.090681 <= voltage < 1:\n",
    "        kelvin = C_100_500(voltage)\n",
    "    elif 1 <= voltage < 1.125923:\n",
    "        kelvin = C_24_100(voltage)\n",
    "    elif 1.125923 <= voltage <= 1.334990:\n",
    "        kelvin = C_12_24(voltage)\n",
    "    elif 1.334990 <= voltage <= 1.634720:\n",
    "        kelvin = C_2_12(voltage)\n",
    "    else:\n",
    "        return None  # Out of range\n",
    "\n",
    "    return round(kelvin, 2)\n",
    "\n"
   ],
   "id": "ecbb89602f8a4483",
   "outputs": [],
   "execution_count": 11
  },
  {
   "metadata": {
    "ExecuteTime": {
     "end_time": "2024-08-19T11:17:27.659884Z",
     "start_time": "2024-08-19T11:17:27.191413Z"
    }
   },
   "cell_type": "code",
   "source": [
    "# Main function to read the input file, process the data, and write to the output file\n",
    "def main():\n",
    "    # Load data from file\n",
    "    input_file = 'input.txt'\n",
    "    output_file = 'output.txt'\n",
    "\n",
    "    # Read voltage values from the file\n",
    "    with open(input_file, 'r') as file:\n",
    "        lines = file.readlines()\n",
    "\n",
    "    output_lines = []\n",
    "    # Add headers\n",
    "    output_lines.append(\"Voltage DT670\\tConverted Temperature in Kelvin\\n\")\n",
    "\n",
    "    for line in lines:\n",
    "        voltage = float(line.strip())\n",
    "        kelvin = process_voltage(voltage)\n",
    "        if kelvin:\n",
    "            output_line = f\"{voltage}V\\t{kelvin}K\\n\"\n",
    "        else:\n",
    "            output_line = f\"{voltage}V\\tout of range\\n\"\n",
    "\n",
    "        output_lines.append(output_line)\n",
    "\n",
    "    # Write the results to the output file\n",
    "    with open(output_file, 'w') as file:\n",
    "        file.writelines(output_lines)\n",
    "\n",
    "# Run the main function\n",
    "main()"
   ],
   "id": "1609c1206c573b47",
   "outputs": [
    {
     "ename": "FileNotFoundError",
     "evalue": "[Errno 2] No such file or directory: 'data.txt'",
     "output_type": "error",
     "traceback": [
      "\u001B[1;31m---------------------------------------------------------------------------\u001B[0m",
      "\u001B[1;31mFileNotFoundError\u001B[0m                         Traceback (most recent call last)",
      "Cell \u001B[1;32mIn[12], line 30\u001B[0m\n\u001B[0;32m     27\u001B[0m         file\u001B[38;5;241m.\u001B[39mwritelines(output_lines)\n\u001B[0;32m     29\u001B[0m \u001B[38;5;66;03m# Run the main function\u001B[39;00m\n\u001B[1;32m---> 30\u001B[0m \u001B[43mmain\u001B[49m\u001B[43m(\u001B[49m\u001B[43m)\u001B[49m\n",
      "Cell \u001B[1;32mIn[12], line 8\u001B[0m, in \u001B[0;36mmain\u001B[1;34m()\u001B[0m\n\u001B[0;32m      5\u001B[0m output_file \u001B[38;5;241m=\u001B[39m \u001B[38;5;124m'\u001B[39m\u001B[38;5;124moutput.txt\u001B[39m\u001B[38;5;124m'\u001B[39m\n\u001B[0;32m      7\u001B[0m \u001B[38;5;66;03m# Read voltage values from the file\u001B[39;00m\n\u001B[1;32m----> 8\u001B[0m \u001B[38;5;28;01mwith\u001B[39;00m \u001B[38;5;28;43mopen\u001B[39;49m\u001B[43m(\u001B[49m\u001B[43minput_file\u001B[49m\u001B[43m,\u001B[49m\u001B[43m \u001B[49m\u001B[38;5;124;43m'\u001B[39;49m\u001B[38;5;124;43mr\u001B[39;49m\u001B[38;5;124;43m'\u001B[39;49m\u001B[43m)\u001B[49m \u001B[38;5;28;01mas\u001B[39;00m file:\n\u001B[0;32m      9\u001B[0m     lines \u001B[38;5;241m=\u001B[39m file\u001B[38;5;241m.\u001B[39mreadlines()\n\u001B[0;32m     11\u001B[0m output_lines \u001B[38;5;241m=\u001B[39m []\n",
      "File \u001B[1;32m~\\github\\venv\\Lib\\site-packages\\IPython\\core\\interactiveshell.py:324\u001B[0m, in \u001B[0;36m_modified_open\u001B[1;34m(file, *args, **kwargs)\u001B[0m\n\u001B[0;32m    317\u001B[0m \u001B[38;5;28;01mif\u001B[39;00m file \u001B[38;5;129;01min\u001B[39;00m {\u001B[38;5;241m0\u001B[39m, \u001B[38;5;241m1\u001B[39m, \u001B[38;5;241m2\u001B[39m}:\n\u001B[0;32m    318\u001B[0m     \u001B[38;5;28;01mraise\u001B[39;00m \u001B[38;5;167;01mValueError\u001B[39;00m(\n\u001B[0;32m    319\u001B[0m         \u001B[38;5;124mf\u001B[39m\u001B[38;5;124m\"\u001B[39m\u001B[38;5;124mIPython won\u001B[39m\u001B[38;5;124m'\u001B[39m\u001B[38;5;124mt let you open fd=\u001B[39m\u001B[38;5;132;01m{\u001B[39;00mfile\u001B[38;5;132;01m}\u001B[39;00m\u001B[38;5;124m by default \u001B[39m\u001B[38;5;124m\"\u001B[39m\n\u001B[0;32m    320\u001B[0m         \u001B[38;5;124m\"\u001B[39m\u001B[38;5;124mas it is likely to crash IPython. If you know what you are doing, \u001B[39m\u001B[38;5;124m\"\u001B[39m\n\u001B[0;32m    321\u001B[0m         \u001B[38;5;124m\"\u001B[39m\u001B[38;5;124myou can use builtins\u001B[39m\u001B[38;5;124m'\u001B[39m\u001B[38;5;124m open.\u001B[39m\u001B[38;5;124m\"\u001B[39m\n\u001B[0;32m    322\u001B[0m     )\n\u001B[1;32m--> 324\u001B[0m \u001B[38;5;28;01mreturn\u001B[39;00m \u001B[43mio_open\u001B[49m\u001B[43m(\u001B[49m\u001B[43mfile\u001B[49m\u001B[43m,\u001B[49m\u001B[43m \u001B[49m\u001B[38;5;241;43m*\u001B[39;49m\u001B[43margs\u001B[49m\u001B[43m,\u001B[49m\u001B[43m \u001B[49m\u001B[38;5;241;43m*\u001B[39;49m\u001B[38;5;241;43m*\u001B[39;49m\u001B[43mkwargs\u001B[49m\u001B[43m)\u001B[49m\n",
      "\u001B[1;31mFileNotFoundError\u001B[0m: [Errno 2] No such file or directory: 'data.txt'"
     ]
    }
   ],
   "execution_count": 12
  },
  {
   "metadata": {},
   "cell_type": "code",
   "outputs": [],
   "execution_count": null,
   "source": "",
   "id": "486ea2345d324965"
  }
 ],
 "metadata": {
  "kernelspec": {
   "display_name": "Python 3",
   "language": "python",
   "name": "python3"
  },
  "language_info": {
   "codemirror_mode": {
    "name": "ipython",
    "version": 2
   },
   "file_extension": ".py",
   "mimetype": "text/x-python",
   "name": "python",
   "nbconvert_exporter": "python",
   "pygments_lexer": "ipython2",
   "version": "2.7.6"
  }
 },
 "nbformat": 4,
 "nbformat_minor": 5
}
