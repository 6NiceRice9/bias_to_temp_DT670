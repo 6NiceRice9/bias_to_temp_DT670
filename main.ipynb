{
 "cells": [
  {
   "cell_type": "code",
   "execution_count": null,
   "outputs": [],
   "source": [
    "import pandas as pd\n",
    "import numpy as np"
   ],
   "metadata": {
    "collapsed": false
   },
   "id": "initial_id"
  },
  {
   "cell_type": "code",
   "execution_count": null,
   "outputs": [],
   "source": [
    "# load txt file\n",
    "# df = pd.read_csv(\"raw.txt\", sep=\"\\t\", header=None)\n",
    "\n",
    "## two columns example \n",
    "## column_1: Time\n",
    "## column_2: measured Voltage in Volt\n",
    "data = [\n",
    "        [\"0\",   \"0,57039\"],\n",
    "        [\"0,1\", \"0,57051\"],\n",
    "        [\"0,2\", \"0,57076\"],\n",
    "        [\"0,3\", \"0,57113\"],\n",
    "        [\"0,4\", \"0,57162\"],\n",
    "        [\"0,5\", \"0,1\"],\n",
    "        [\"0,6\", \"0,9\"],\n",
    "        ]\n",
    "df = pd.DataFrame(data)"
   ],
   "metadata": {
    "collapsed": false
   },
   "id": "64d52e42c6edfc8c"
  },
  {
   "cell_type": "code",
   "execution_count": null,
   "outputs": [],
   "source": [
    "# replace comma with dot\n",
    "df = df.replace(',', '.', regex=True)"
   ],
   "metadata": {
    "collapsed": false
   },
   "id": "a01e559289f9aca6"
  },
  {
   "cell_type": "code",
   "execution_count": null,
   "outputs": [],
   "source": [
    "## define functions\n",
    "# 0.986974 >= Z >= 0.090681 --> from Volt to Kelvin\n",
    "def C_100_500(Z):\n",
    "    ZL = 0.070000\n",
    "    ZU = 0.99799\n",
    "    T = 0\n",
    "    constants = (\n",
    "    306.592351, -205.393808, -4.695680, -2.031603, -0.071792, -0.437682, 0.176352, -0.182516, 0.064687, -0.027019,\n",
    "    0.010019)\n",
    "    normalized_var = ((Z - ZL) - (ZU - Z)) / (ZU - ZL)\n",
    "\n",
    "    for index in range(len(constants)):\n",
    "        T = T + constants[index] * np.cos(index * np.arccos(normalized_var))\n",
    "    return T\n",
    "\n",
    "# 1.119448 >= Z >= 0.986974 --> from Volt to Kelvin\n",
    "def C_24_100(Z):\n",
    "    ZL = 0.909416\n",
    "    ZU = 1.122751\n",
    "    T = 0\n",
    "    constants = (\n",
    "    82.017868, -59.064244, -1.356615, 1.055396, 0.837341, 0.431875, 0.440840, -0.061588, 0.209414, -0.120882, 0.055734,\n",
    "    -0.035974)\n",
    "    normalized_var = ((Z - ZL) - (ZU - Z)) / (ZU - ZL)\n",
    "\n",
    "    for index in range(len(constants)):\n",
    "        T = T + constants[index] * np.cos(index * np.arccos(normalized_var))\n",
    "    return T\n",
    "\n",
    "# 1.334990 >= Z >= 1.119448 --> from Volt to Kelvin\n",
    "def C_12_24(Z):\n",
    "    ZL = 1.11230\n",
    "    ZU = 1.38373\n",
    "    T = 0\n",
    "    constants = (\n",
    "    17.244846, -7.964373, 0.625343, -0.105068, 0.292196, -0.344492, 0.271670, -0.151722, 0.121320, -0.035566, 0.045966)\n",
    "    normalized_var = ((Z - ZL) - (ZU - Z)) / (ZU - ZL)\n",
    "\n",
    "    for index in range(len(constants)):\n",
    "        T = T + constants[index] * np.cos(index * np.arccos(normalized_var))\n",
    "    return T\n",
    "\n",
    "# 1.634720 >= Z >= 1.334990 --> fom Volt to Kelvin\n",
    "def C_2_12(Z):\n",
    "    ZL = 1.294390\n",
    "    ZU = 1.680000\n",
    "    T = 0\n",
    "    constants = (\n",
    "    6.429274, -7.514262, -0.725882, -1.117846, -0.562041, -0.360239, -0.229751, -0.135713, -0.068203, -0.029755)\n",
    "    normalized_var = ((Z - ZL) - (ZU - Z)) / (ZU - ZL)\n",
    "\n",
    "    for index in range(len(constants)):\n",
    "        T = T + constants[index] * np.cos(index * np.arccos(normalized_var))\n",
    "    return T"
   ],
   "metadata": {
    "collapsed": false
   },
   "id": "360a1601a16c0eb8"
  },
  {
   "cell_type": "code",
   "execution_count": null,
   "outputs": [],
   "source": [
    "# loop over all Voltages and replace them by the calculated temperature in Kelvin\n",
    "for index in range(len(df)):\n",
    "        try:\n",
    "            if 1.634720 >= float(df.iloc[index,1]) >= 1.334990:\n",
    "                df.iloc[index,1] = C_2_12(float(df.iloc[index,1]))\n",
    "                # from 2 to 12 Kelvin\n",
    "            if 1.334990 >= float(df.iloc[index,1]) >= 1.119448:\n",
    "                df.iloc[index,1] = C_12_24(float(df.iloc[index]))\n",
    "                # from 12 to 24 Kelvin\n",
    "            if 1.119448 >= float(df.iloc[index,1]) >= 0.986974:\n",
    "                df.iloc[index,1] = C_24_100(float(df.iloc[index,1]))\n",
    "                # from 24 to 100 Kelvin\n",
    "            if 0.986974 >= float(df.iloc[index,1]) >= 0.090681:\n",
    "                df.iloc[index,1] = C_100_500(float(df.iloc[index,1]))\n",
    "                # from 100 to 500 Kelvin\n",
    "        except Exception as e:\n",
    "            print(f\"An error occurred: {e}\")\n",
    "        finally:\n",
    "            pass"
   ],
   "metadata": {
    "collapsed": false
   },
   "id": "fb2047a91958eaf3"
  },
  {
   "cell_type": "code",
   "execution_count": null,
   "outputs": [],
   "source": [
    "# column_0: time        column_1: Temperature in Kelvin\n",
    "df.head()"
   ],
   "metadata": {
    "collapsed": false
   },
   "id": "f881717af438f90d"
  }
 ],
 "metadata": {
  "kernelspec": {
   "display_name": "Python 3",
   "language": "python",
   "name": "python3"
  },
  "language_info": {
   "codemirror_mode": {
    "name": "ipython",
    "version": 2
   },
   "file_extension": ".py",
   "mimetype": "text/x-python",
   "name": "python",
   "nbconvert_exporter": "python",
   "pygments_lexer": "ipython2",
   "version": "2.7.6"
  }
 },
 "nbformat": 4,
 "nbformat_minor": 5
}
